{
  "nbformat": 4,
  "nbformat_minor": 0,
  "metadata": {
    "colab": {
      "provenance": [],
      "gpuType": "T4"
    },
    "kernelspec": {
      "name": "python3",
      "display_name": "Python 3"
    },
    "language_info": {
      "name": "python"
    },
    "accelerator": "GPU"
  },
  "cells": [
    {
      "cell_type": "markdown",
      "source": [
        "## Setup"
      ],
      "metadata": {
        "id": "oR-St_5F1MIx"
      }
    },
    {
      "cell_type": "markdown",
      "source": [
        "This notebook is used to run the vial swap error detection pipeline on drug drawup videos.\n",
        "\n",
        "***The code needs to be executed in a GPU runtime. From the menu bar at the top of the screen, select Runtime > Change runtime type > T4 GPU (or other GPU if this is not available).***\n",
        "\n",
        "To run the code in each cell of this notebook, highlight your mouse over the cell, then click the Play button on the left.\n",
        "\n",
        "This will execute the command in the cell.\n",
        "\n",
        "The command output will be printed below each cell.\n",
        "\n",
        "When the command finishes, a green checkmark will be displayed to the left of the cell.\n",
        "\n",
        "All data resides in the notebook, and all code is executed within it. No data needs to be downloaded to your local computer.\n"
      ],
      "metadata": {
        "id": "CtkpJB9_1N7h"
      }
    },
    {
      "cell_type": "code",
      "source": [
        "# 1) Retrieve example videos:\n",
        "# a) Video depicting correct drug drawup in real-world operating room scenario, from a propofol syringe to a propofol vial\n",
        "# b) Video depicting a vial swap error demonstrated by trained researcher in controlled environment, from a midazolam syringe to a dexamethasone vial\n",
        "\n",
        "!gdown 1yAprqI1XQD7gNNqDD80-O_GuKVed_dHW\n",
        "!gdown 1pcU01QPMa2HXNODmHGLmOsffLqcs7QZ5\n",
        "\n",
        "# If you want to view the videos locally,\n",
        "# Click the Folder icon on the left > Click the Refresh icon >\n",
        "# Click the three vertical dots next to the desired video > Click Download\n",
        "\n",
        "# 2) Download and unzip project code\n",
        "!gdown 1uHYxyHIK6k0p2LW_8ade6XM2zKApg_jA # files\n",
        "!unzip -q code.zip -d .\n",
        "\n",
        "# 3) Download weights necessary for the detector and classifier. Runtime: 97 seconds\n",
        "!gdown 19pns6_7PHnEbqM1C46uJuUDmd45d6NUy # Syringe detector weights\n",
        "!gdown 1Fzxvnk4PbTjcIqAOPjG4k6Vc_5z6Htrz # Vial detector weights\n",
        "!gdown 14yKlH7nMy3mN4r34KhmtoHRc9QmKUY6f # Syringe classifier weights\n",
        "!gdown 1XE6tPwbAY3AqwwyLNP7RXUjwn_8HdofB # Vial classifier weights\n",
        "\n",
        "# 4) Install CLIP network dependency for classification. Runtime: 89 seconds\n",
        "!pip install git+https://github.com/openai/CLIP.git@40f5484c1c74edd83cb9cf687c6ab92b28d8b656"
      ],
      "metadata": {
        "id": "x0pLknLzZup1"
      },
      "execution_count": null,
      "outputs": []
    },
    {
      "cell_type": "markdown",
      "source": [
        "## Detector"
      ],
      "metadata": {
        "id": "xFl0VK2OkV-Z"
      }
    },
    {
      "cell_type": "markdown",
      "source": [
        "In this section, we run the detector over each recorded video.\n",
        "For each video, we run an object detector for the syringe label, and an object detector for the vial label. The command will output the progress as follows:\n",
        "\n",
        "```\n",
        "detect: weights=['/content/syringe_detector_weights.pt'], source=/content/vid1.mp4, data=code/data/coco128.yaml, imgsz=[640, 640], conf_thres=0.8, iou_thres=0.45, max_det=1, device=, view_img=False, save_txt=True, save_conf=True, save_crop=True, nosave=False, classes=[1], agnostic_nms=False, augment=True, visualize=False, update=False, project=/content/syringe_frames/, name=vid1, exist_ok=False, line_thickness=3, hide_labels=False, hide_conf=False, half=False, dnn=False\n",
        "requirements: /content/code/requirements.txt not found, check failed.\n",
        "YOLOv5 🚀 2024-4-12 Python-3.10.12 torch-2.2.1+cu121 CUDA:0 (Tesla T4, 15102MiB)\n",
        "\n",
        "Fusing layers...\n",
        "Model summary: 444 layers, 86180143 parameters, 0 gradients\n",
        "video 1/1 (1/1689) /content/vid1.mp4: 640x384 Done. (0.255s)\n",
        "video 1/1 (2/1689) /content/vid1.mp4: 640x384 Done. (0.141s)\n",
        "video 1/1 (3/1689) /content/vid1.mp4: 640x384 Done. (0.096s)\n",
        "video 1/1 (4/1689) /content/vid1.mp4: 640x384 Done. (0.088s)\n",
        "video 1/1 (5/1689) /content/vid1.mp4: 640x384 Done. (0.082s)\n",
        "video 1/1 (6/1689) /content/vid1.mp4: 640x384 Done. (0.082s)\n",
        "```"
      ],
      "metadata": {
        "id": "tQgVbDR33SOh"
      }
    },
    {
      "cell_type": "code",
      "source": [
        "# Run object detector on video 1\n",
        "# Running time is 3 minutes 30 seconds for each of the 2 commands\n",
        "!python /content/code/detect.py --augment --max-det 1 --classes 1 --project /content/syringe_frames/ --name vid1 --conf-thres 0.8 --save-txt --save-crop --save-conf --weights /content/syringe_detector_weights.pt --img 640 --source /content/vid1.mp4\n",
        "!python /content/code/detect.py --augment --max-det 1 --classes 1 --project /content/vial_frames/ --name vid1 --conf-thres 0.8 --save-txt --save-crop --save-conf --weights /content/vial_detector_weights.pt --img 640 --source /content/vid1.mp4"
      ],
      "metadata": {
        "id": "VBZdnc2wYU05"
      },
      "execution_count": null,
      "outputs": []
    },
    {
      "cell_type": "code",
      "source": [
        "# Run object detector on video 2\n",
        "# Running time is 50 seconds for each of the 2 commands\n",
        "!python /content/code/detect.py --augment --max-det 1 --classes 1 --project /content/syringe_frames/ --name vid2 --conf-thres 0.8 --save-txt --save-crop --save-conf --weights /content/syringe_detector_weights.pt --img 640 --source /content/vid2.mp4\n",
        "!python /content/code/detect.py --augment --max-det 1 --classes 1 --project /content/vial_frames/ --name vid2 --conf-thres 0.8 --save-txt --save-crop --save-conf --weights /content/vial_detector_weights.pt --img 640 --source /content/vid2.mp4"
      ],
      "metadata": {
        "id": "GgF2lA0P5u5P"
      },
      "execution_count": null,
      "outputs": []
    },
    {
      "cell_type": "markdown",
      "source": [
        "## Classifier"
      ],
      "metadata": {
        "id": "owHVkSawkTpa"
      }
    },
    {
      "cell_type": "markdown",
      "source": [
        "Here, we run the syringe label and vial label classifier across each frame and record the frame-level outputs to a log file.\n",
        "\n",
        "The expected output for each command in this step is below:\n",
        "```\n",
        "Loading model ...\n",
        "Finished loading model\n",
        "Loading weights ...\n",
        "Finished loading weights\n",
        "23% 5/22 [00:10<00:29,  1.71s/it]\n",
        "\n",
        "```\n",
        "Ignore any runtime warnings."
      ],
      "metadata": {
        "id": "r8iP_WoY6HDv"
      }
    },
    {
      "cell_type": "code",
      "source": [
        "# Run syringe label classifier on frames of video 1. Runtime: 1 minute 9 seconds\n",
        "!python /content/code/Inference_vid.py --obj 'syringe' --exp \"vid1\" --weights 'syringe_classifier_weights.pt' --batch-size 32 --model 'ViT-L/14'\n",
        "# Run vial label classifier on frames of video 1. Runtime: 1 minute 1 seconds\n",
        "!python /content/code/Inference_vid.py --obj 'vial' --exp \"vid1\" --weights 'vial_classifier_weights.pt' --batch-size 32 --model 'ViT-L/14'"
      ],
      "metadata": {
        "id": "ScfemnMffaTV"
      },
      "execution_count": null,
      "outputs": []
    },
    {
      "cell_type": "code",
      "source": [
        "# Run syringe label classifier on frames of video 2. Runtime: 50 seconds\n",
        "!python /content/code/Inference_vid.py --obj 'syringe' --exp \"vid2\" --weights 'syringe_classifier_weights.pt' --batch-size 32 --model 'ViT-L/14'\n",
        "# Run vial label classifier on frames of video 2. Runtime: 50 seconds\n",
        "!python /content/code/Inference_vid.py --obj 'vial' --exp \"vid2\" --weights 'vial_classifier_weights.pt' --batch-size 32 --model 'ViT-L/14'"
      ],
      "metadata": {
        "id": "AWuAcLdB5-ZH"
      },
      "execution_count": null,
      "outputs": []
    },
    {
      "cell_type": "markdown",
      "source": [
        "Finally, we parse the log file and output the video-level classification.\n",
        "The expected output from this step is:\n",
        "```\n",
        "vid1\n",
        "Syringe: Propofol\n",
        "Vial: Propofol\n",
        "No error\n",
        "vid2\n",
        "Syringe: Midazolam\n",
        "Vial: Dexamethasone\n",
        "Vial swap error\n",
        "```"
      ],
      "metadata": {
        "id": "x4t8_XNR7Jmp"
      }
    },
    {
      "cell_type": "code",
      "source": [
        "# Compute video-level classification result for video 1. Runtime: 0.4 seconds\n",
        "!python /content/code/classify.py --exp vid1\n",
        "# Compute video-level classification result for video 2. Runtime: 0.4 seconds\n",
        "!python /content/code/classify.py --exp vid2"
      ],
      "metadata": {
        "id": "8cZcU-8wxPs3"
      },
      "execution_count": null,
      "outputs": []
    }
  ]
}